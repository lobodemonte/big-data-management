{
 "cells": [
  {
   "cell_type": "code",
   "execution_count": 1,
   "metadata": {},
   "outputs": [],
   "source": [
    "import pandas as pd\n",
    "import numpy as np\n",
    "import rtree\n",
    "import time\n",
    "from pyspark import SparkContext\n",
    "import traceback"
   ]
  },
  {
   "cell_type": "code",
   "execution_count": 55,
   "metadata": {},
   "outputs": [],
   "source": [
    "# import gzip\n",
    "# import shutil\n",
    "# with gzip.open('yellow.csv.gz', 'rb') as f_in:\n",
    "#     with open('yellow.csv', 'wb') as f_out:\n",
    "#         shutil.copyfileobj(f_in, f_out)"
   ]
  },
  {
   "cell_type": "code",
   "execution_count": 56,
   "metadata": {},
   "outputs": [],
   "source": [
    "boros_file = 'boroughs.geojson'\n",
    "neighborhood_file = 'neighborhoods.geojson'"
   ]
  },
  {
   "cell_type": "code",
   "execution_count": 4,
   "metadata": {},
   "outputs": [],
   "source": [
    "sc = SparkContext()"
   ]
  },
  {
   "cell_type": "code",
   "execution_count": 57,
   "metadata": {},
   "outputs": [],
   "source": [
    "def createIndex(shapefile):\n",
    "    import rtree\n",
    "    import fiona.crs\n",
    "    import geopandas as gpd\n",
    "    zones = gpd.read_file(shapefile).to_crs(fiona.crs.from_epsg(2263))\n",
    "    index = rtree.Rtree()\n",
    "    for idx,geometry in enumerate(zones.geometry):\n",
    "        index.insert(idx, geometry.bounds)\n",
    "    return (index, zones)\n",
    "\n",
    "def findZone(p, index, zones):\n",
    "    match = index.intersection((p.x, p.y, p.x, p.y))\n",
    "    for idx in match:\n",
    "        if zones.geometry[idx].contains(p):\n",
    "            return idx\n",
    "    return None\n",
    "\n",
    "def processTrips(pid, records):\n",
    "    import csv\n",
    "    import pyproj\n",
    "    import shapely.geometry as geom\n",
    "    \n",
    "    reader = csv.reader(records)\n",
    "    proj = pyproj.Proj(init=\"epsg:2263\", preserve_units=True)    \n",
    "    \n",
    "    index_n, neighborhoods = createIndex(neighborhood_file)  \n",
    "    \n",
    "    # Skip the header\n",
    "    if pid == 0:\n",
    "        next(records)\n",
    "    \n",
    "    counts = {}\n",
    "    for row in reader:\n",
    "        try: \n",
    "            if 'NULL' in row[2:6] or '0' in row[2:6]: \n",
    "                continue\n",
    "            \n",
    "            pickup_point = geom.Point(proj(float(row[3]), float(row[2])))\n",
    "            dropoff_point= geom.Point(proj(float(row[5]), float(row[4])))\n",
    "\n",
    "            start_idx = findZone(pickup_point, index_n, neighborhoods) ##, \"boroname\")\n",
    "            end_idx   = findZone(dropoff_point, index_n, neighborhoods) ##, \"neighborhood\")\n",
    "            \n",
    "            if start_idx and end_idx:\n",
    "                borough = neighborhoods.iloc[start_idx]['borough']\n",
    "                neighborhood = neighborhoods.iloc[end_idx]['neighborhood']\n",
    "                counts[(borough,neighborhood)] = counts.get((borough,neighborhood), 0) + 1\n",
    "\n",
    "        except: \n",
    "            print(\"Failed at: \", row) ##TODO this won't log anything            \n",
    "            print(traceback.format_exc())\n",
    "    return counts.items()"
   ]
  },
  {
   "cell_type": "code",
   "execution_count": 58,
   "metadata": {},
   "outputs": [],
   "source": [
    "def run_spark(taxi_file, sc):\n",
    "\n",
    "    rdd = sc.textFile(taxi_file)\n",
    "\n",
    "    counts_rdd = rdd.mapPartitionsWithIndex(processTrips) \\\n",
    "                .reduceByKey(lambda x, y: x + y ) \\\n",
    "                .map(lambda x: ( x[0][0], [(x[0][1], x[1])] ) ) \\\n",
    "                .reduceByKey(lambda x, y: x + y ) \\\n",
    "                .mapValues(lambda hood_counts: sorted(hood_counts, reverse=True, key=lambda tup:tup[1])[:3]) \\\n",
    "                .sortByKey() \\\n",
    "                .map(lambda x: x[0] + \",\" + \",\".join([str(i) for sub in x[1] for i in sub])) \\\n",
    "   \n",
    "    return counts_rdd.collect()"
   ]
  },
  {
   "cell_type": "code",
   "execution_count": 60,
   "metadata": {},
   "outputs": [
    {
     "name": "stdout",
     "output_type": "stream",
     "text": [
      "['Bronx,Harlem,50,Longwood,49,East Harlem,32', 'Brooklyn,Williamsburg,1879,Bedford-Stuyvesant,983,Greenpoint,730', 'Manhattan,Upper East Side,52859,Midtown,46447,Upper West Side,36753', 'Queens,Midtown,1910,Upper East Side,1231,Astoria,1083', 'Staten Island,Castleton Corners,2,Dongan Hills,1,West Brighton,1']\n",
      "Execution Time(secs):  1389.8245899677277\n"
     ]
    }
   ],
   "source": [
    "start = time.time()\n",
    "print(run_spark('yellow.csv.gz', sc))\n",
    "print(\"Execution Time(secs): \", time.time() - start)"
   ]
  },
  {
   "cell_type": "code",
   "execution_count": null,
   "metadata": {},
   "outputs": [],
   "source": []
  },
  {
   "cell_type": "code",
   "execution_count": 61,
   "metadata": {},
   "outputs": [
    {
     "name": "stdout",
     "output_type": "stream",
     "text": [
      "Execution Time(secs):  34.08284401893616\n",
      "155\n",
      "Execution Time(secs):  0.014960289001464844\n"
     ]
    }
   ],
   "source": [
    "import pyproj\n",
    "import shapely.geometry as geom\n",
    "import time\n",
    "proj = pyproj.Proj(init=\"epsg:2263\", preserve_units=True)   \n",
    "point = geom.Point(proj('-73.99164581','40.7387085'))\n",
    "\n",
    "start = time.time()\n",
    "index_e, zone_e = createIndex('neighborhoods.geojson') \n",
    "print(\"Execution Time(secs): \", time.time() - start)\n",
    "\n",
    "start = time.time()\n",
    "point_zone = findZone(point, index_e, zone_e)\n",
    "print(point_zone)\n",
    "print(\"Execution Time(secs): \", time.time() - start)"
   ]
  },
  {
   "cell_type": "code",
   "execution_count": null,
   "metadata": {},
   "outputs": [],
   "source": []
  },
  {
   "cell_type": "code",
   "execution_count": null,
   "metadata": {},
   "outputs": [],
   "source": []
  },
  {
   "cell_type": "code",
   "execution_count": null,
   "metadata": {},
   "outputs": [],
   "source": []
  }
 ],
 "metadata": {
  "kernelspec": {
   "display_name": "Python 3",
   "language": "python",
   "name": "python3"
  },
  "language_info": {
   "codemirror_mode": {
    "name": "ipython",
    "version": 3
   },
   "file_extension": ".py",
   "mimetype": "text/x-python",
   "name": "python",
   "nbconvert_exporter": "python",
   "pygments_lexer": "ipython3",
   "version": "3.7.6"
  }
 },
 "nbformat": 4,
 "nbformat_minor": 4
}
