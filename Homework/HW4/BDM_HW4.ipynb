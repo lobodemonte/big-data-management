{
 "cells": [
  {
   "cell_type": "code",
   "execution_count": 3,
   "metadata": {},
   "outputs": [],
   "source": [
    "import pandas as pd\n",
    "import numpy as np\n",
    "import rtree\n",
    "import time\n",
    "from pyspark import SparkContext\n",
    "from geopandas import GeoDataFrame\n",
    "import traceback\n"
   ]
  },
  {
   "cell_type": "code",
   "execution_count": 4,
   "metadata": {},
   "outputs": [],
   "source": [
    "# import gzip\n",
    "# import shutil\n",
    "# with gzip.open('yellow.csv.gz', 'rb') as f_in:\n",
    "#     with open('yellow.csv', 'wb') as f_out:\n",
    "#         shutil.copyfileobj(f_in, f_out)"
   ]
  },
  {
   "cell_type": "code",
   "execution_count": 5,
   "metadata": {},
   "outputs": [],
   "source": [
    "sc = SparkContext()"
   ]
  },
  {
   "cell_type": "code",
   "execution_count": 12,
   "metadata": {},
   "outputs": [],
   "source": [
    "def genIndex(shapefile):\n",
    "    import fiona.crs\n",
    "    import geopandas as gpd\n",
    "    zones = gpd.read_file(shapefile).to_crs(fiona.crs.from_epsg(2263))\n",
    "    for idx, geometry in enumerate(zones.geometry):\n",
    "        yield (idx, geometry.bounds, zones.iloc[idx])\n",
    "\n",
    "def getZone(p, index, field):\n",
    "    matches = index.intersection((p.x, p.y, p.x, p.y), objects='raw')\n",
    "    for match in matches:\n",
    "        if match.geometry.contains(p):\n",
    "            return match[field]\n",
    "    return None\n",
    "\n",
    "def createIndex(shapefile):\n",
    "    import rtree\n",
    "    import fiona.crs\n",
    "    import geopandas as gpd\n",
    "    zones = gpd.read_file(shapefile).to_crs(fiona.crs.from_epsg(2263))\n",
    "    index = rtree.Rtree()\n",
    "    for idx, geometry in enumerate(zones.geometry):\n",
    "        index.insert(idx, geometry.bounds)\n",
    "    return {\"index\": index, \"zones\": zones}\n",
    "\n",
    "def findZone(p, geo_map):\n",
    "    match = geo_map['index'].intersection((p.x, p.y, p.x, p.y))\n",
    "    for idx in match:\n",
    "        if geo_map['zones'].geometry[idx].contains(p):\n",
    "            return idx\n",
    "    return None\n",
    "\n",
    "def processTrips(pid, records):\n",
    "    import csv\n",
    "    import pyproj\n",
    "    import shapely.geometry as geom\n",
    "    import rtree.index\n",
    "\n",
    "    # Skip the header\n",
    "    if pid == 0:\n",
    "        next(records)\n",
    "    \n",
    "    reader = csv.reader(records)\n",
    "    proj = pyproj.Proj(init=\"epsg:2263\", preserve_units=True)    \n",
    "    \n",
    "    boros = createIndex('boroughs.geojson')    \n",
    "    neighborhoods = createIndex('neighborhoods.geojson')  \n",
    "#     boros_gen = rtree.index.Index(genIndex('boroughs.geojson'))\n",
    "#     hood_gen = rtree.index.Index(genIndex('neighborhoods.geojson'))\n",
    "    \n",
    "    for row in reader:\n",
    "        try: \n",
    "            if 'NULL' in row[2:6]: \n",
    "                continue\n",
    "            \n",
    "            pickup_point = geom.Point(proj(float(row[3]), float(row[2])))\n",
    "            dropoff_point= geom.Point(proj(float(row[5]), float(row[4])))\n",
    "\n",
    "            start_boro = findZone(pickup_point, boros)\n",
    "            end_hood = findZone(dropoff_point, neighborhoods)\n",
    "\n",
    "#             start_boro = getZone(pickup_point, boros_gen, 'boroname')\n",
    "#             end_hood = getZone(dropoff_point, hood_gen, 'neighborhood')\n",
    "\n",
    "            if start_boro and end_hood:\n",
    "                    boro_name = boros['zones'].iloc[start_boro]['boroname']\n",
    "                    hood_name = neighborhoods['zones'].iloc[end_hood]['neighborhood']\n",
    "                    yield ( (boro_name, hood_name), 1 )\n",
    "#                     yield ( (start_boro, end_hood), 1 )\n",
    "\n",
    "        except: \n",
    "            print(traceback.format_exc())\n",
    "            print(\"Failed at: \", row) ##TODO this won't log anything\n"
   ]
  },
  {
   "cell_type": "code",
   "execution_count": 13,
   "metadata": {},
   "outputs": [],
   "source": [
    "def run_spark(taxi_file, sc):\n",
    "    from heapq import nlargest\n",
    "    from operator import itemgetter\n",
    "\n",
    "    rdd = sc.textFile(taxi_file).mapPartitionsWithIndex(processTrips).cache()\n",
    "    \n",
    "    print(\"Number of Partitions: \", rdd.getNumPartitions())\n",
    "    \n",
    "    counts = rdd.reduceByKey(lambda x,y: x+y) \\\n",
    "                .map(lambda x: ( x[0][0], [(x[0][1], x[1])] ) ) \\\n",
    "                .reduceByKey(lambda x,y: x+y) \\\n",
    "                .mapValues(lambda hood_counts: nlargest(3, hood_counts, key=itemgetter(1))) \\\n",
    "                .sortByKey() \\\n",
    "                .map(lambda x: x[0] + \",\" + \",\".join([str(i) for sub in x[1] for i in sub])) \\\n",
    "\n",
    "    return counts.collect()\n"
   ]
  },
  {
   "cell_type": "code",
   "execution_count": 17,
   "metadata": {},
   "outputs": [
    {
     "name": "stdout",
     "output_type": "stream",
     "text": [
      "Number of Partitions:  2\n",
      "['Brooklyn,Clinton Hill,1,Boerum Hill,1,Prospect Heights,1', 'Manhattan,Upper West Side,14,Chelsea,10,Midtown,9', \"Queens,Astoria,3,Hell's Kitchen,1\"]\n",
      "Execution Time(secs):  59.48563313484192\n"
     ]
    }
   ],
   "source": [
    "start = time.time()\n",
    "print(run_spark('yellow100.csv', sc))\n",
    "print(\"Execution Time(secs): \", time.time() - start)"
   ]
  },
  {
   "cell_type": "code",
   "execution_count": 18,
   "metadata": {},
   "outputs": [
    {
     "name": "stdout",
     "output_type": "stream",
     "text": [
      "Number of Partitions:  2\n",
      "['Brooklyn,Bushwick,2,Clinton Hill,1,Boerum Hill,1', 'Manhattan,Chelsea,27,Upper West Side,23,Upper East Side,22', \"Queens,Astoria,3,LaGuardia Airport,1,Hell's Kitchen,1\"]\n",
      "Execution Time(secs):  60.8266339302063\n"
     ]
    }
   ],
   "source": [
    "start = time.time()\n",
    "print(run_spark('yellow250.csv', sc))\n",
    "print(\"Execution Time(secs): \", time.time() - start)"
   ]
  },
  {
   "cell_type": "code",
   "execution_count": 16,
   "metadata": {},
   "outputs": [
    {
     "name": "stdout",
     "output_type": "stream",
     "text": [
      "Number of Partitions:  2\n",
      "['Brooklyn,Bushwick,3,Williamsburg,3,Crown Heights,2', 'Manhattan,Upper East Side,51,Chelsea,45,Midtown,43', 'Queens,Astoria,3,Long Island City,2,LaGuardia Airport,1']\n",
      "Execution Time(secs):  62.504777669906616\n"
     ]
    }
   ],
   "source": [
    "# Brooklyn,Bushwick,3,Williamsburg,3,Crown Heights,2', 'Manhattan,Upper East Side,51,Chelsea,45,Midtown,43', \n",
    "# 'Queens,Astoria,3,Long Island City,2,LaGuardia Airport,1'\n",
    "start = time.time()\n",
    "print(run_spark('yellow500.csv', sc))\n",
    "print(\"Execution Time(secs): \", time.time() - start)"
   ]
  },
  {
   "cell_type": "code",
   "execution_count": 55,
   "metadata": {},
   "outputs": [
    {
     "name": "stdout",
     "output_type": "stream",
     "text": [
      "['Brooklyn,Williamsburg,8,Bushwick,7,Clinton Hill,4', 'Manhattan,Upper East Side,108,Midtown,92,Chelsea,86', 'Queens,Astoria,5,Upper East Side,2,Upper West Side,2']\n",
      "Execution Time(secs):  65.14846420288086\n"
     ]
    }
   ],
   "source": [
    "start = time.time()\n",
    "print(run_spark('yellow1000.csv', sc))\n",
    "print(\"Execution Time(secs): \", time.time() - start)"
   ]
  },
  {
   "cell_type": "code",
   "execution_count": null,
   "metadata": {},
   "outputs": [],
   "source": [
    "start = time.time()\n",
    "print(run_spark('yellow.csv', sc))\n",
    "print(\"Execution Time(secs): \", time.time() - start)"
   ]
  },
  {
   "cell_type": "code",
   "execution_count": null,
   "metadata": {},
   "outputs": [],
   "source": []
  },
  {
   "cell_type": "code",
   "execution_count": null,
   "metadata": {},
   "outputs": [],
   "source": []
  },
  {
   "cell_type": "code",
   "execution_count": 11,
   "metadata": {},
   "outputs": [],
   "source": [
    "import pyproj\n",
    "import shapely.geometry as geom\n",
    "\n",
    "proj = pyproj.Proj(init=\"epsg:2263\", preserve_units=True)   \n",
    "point = geom.Point(proj('-73.99164581','40.7387085'))"
   ]
  },
  {
   "cell_type": "code",
   "execution_count": 45,
   "metadata": {},
   "outputs": [
    {
     "name": "stdout",
     "output_type": "stream",
     "text": [
      "Chelsea\n",
      "Execution Time(secs):  29.4283344745636\n"
     ]
    }
   ],
   "source": [
    "start = time.time()\n",
    "hood_gen = rtree.index.Index(genIndex('neighborhoods.geojson'))\n",
    "zone = getZone(point, hood_gen, 'neighborhood')\n",
    "print(zone)\n",
    "print(\"Execution Time(secs): \", time.time() - start)"
   ]
  },
  {
   "cell_type": "code",
   "execution_count": 46,
   "metadata": {},
   "outputs": [
    {
     "name": "stdout",
     "output_type": "stream",
     "text": [
      "155\n",
      "Execution Time(secs):  30.106755018234253\n"
     ]
    }
   ],
   "source": [
    "start = time.time()\n",
    "hood_index = createIndex('neighborhoods.geojson') \n",
    "point_zone = findZone(point, hood_index)\n",
    "print(point_zone)\n",
    "print(\"Execution Time(secs): \", time.time() - start)"
   ]
  },
  {
   "cell_type": "code",
   "execution_count": null,
   "metadata": {},
   "outputs": [],
   "source": []
  }
 ],
 "metadata": {
  "kernelspec": {
   "display_name": "Python 3",
   "language": "python",
   "name": "python3"
  },
  "language_info": {
   "codemirror_mode": {
    "name": "ipython",
    "version": 3
   },
   "file_extension": ".py",
   "mimetype": "text/x-python",
   "name": "python",
   "nbconvert_exporter": "python",
   "pygments_lexer": "ipython3",
   "version": "3.7.6"
  }
 },
 "nbformat": 4,
 "nbformat_minor": 4
}
