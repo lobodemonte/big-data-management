{
 "cells": [
  {
   "cell_type": "code",
   "execution_count": 15,
   "metadata": {},
   "outputs": [],
   "source": [
    "import pandas as pd\n",
    "import numpy as np\n",
    "import rtree\n",
    "import time\n",
    "from pyspark import SparkContext\n",
    "import traceback\n",
    "# from heapq import nlargest\n",
    "# from operator import itemgetter"
   ]
  },
  {
   "cell_type": "code",
   "execution_count": 2,
   "metadata": {},
   "outputs": [],
   "source": [
    "# import gzip\n",
    "# import shutil\n",
    "# with gzip.open('yellow.csv.gz', 'rb') as f_in:\n",
    "#     with open('yellow.csv', 'wb') as f_out:\n",
    "#         shutil.copyfileobj(f_in, f_out)"
   ]
  },
  {
   "cell_type": "code",
   "execution_count": 3,
   "metadata": {},
   "outputs": [],
   "source": [
    "boros_file = 'boroughs.geojson'\n",
    "neighborhood_file = 'neighborhoods.geojson'"
   ]
  },
  {
   "cell_type": "code",
   "execution_count": 4,
   "metadata": {},
   "outputs": [],
   "source": [
    "sc = SparkContext()"
   ]
  },
  {
   "cell_type": "code",
   "execution_count": 16,
   "metadata": {},
   "outputs": [],
   "source": [
    "def createIndex(shapefile):\n",
    "    import rtree\n",
    "    import fiona.crs\n",
    "    import geopandas as gpd\n",
    "    zones = gpd.read_file(shapefile).to_crs(fiona.crs.from_epsg(2263))\n",
    "    index = rtree.Rtree()\n",
    "    for idx,geometry in enumerate(zones.geometry):\n",
    "        index.insert(idx, geometry.bounds)\n",
    "    return (index, zones)\n",
    "\n",
    "def findZone(p, index, zones):\n",
    "    match = index.intersection((p.x, p.y, p.x, p.y))\n",
    "    for idx in match:\n",
    "        if zones.geometry[idx].contains(p):\n",
    "            return idx\n",
    "    return None\n",
    "\n",
    "def processTrips(pid, records):\n",
    "    import csv\n",
    "    import pyproj\n",
    "    import shapely.geometry as geom\n",
    "    \n",
    "    reader = csv.reader(records)\n",
    "    proj = pyproj.Proj(init=\"epsg:2263\", preserve_units=True)    \n",
    "    \n",
    "    index_n, neighborhoods = createIndex(neighborhood_file)  \n",
    "    \n",
    "    # Skip the header\n",
    "    if pid == 0:\n",
    "        next(records)\n",
    "    \n",
    "    counts = {}\n",
    "    for row in reader:\n",
    "        try: \n",
    "            if 'NULL' in row[2:6] or '0' in row[2:6]: \n",
    "                continue\n",
    "            \n",
    "            pickup_point = geom.Point(proj(float(row[3]), float(row[2])))\n",
    "            dropoff_point= geom.Point(proj(float(row[5]), float(row[4])))\n",
    "\n",
    "            start_idx = findZone(pickup_point, index_n, neighborhoods) ##, \"boroname\")\n",
    "            end_idx   = findZone(dropoff_point, index_n, neighborhoods) ##, \"neighborhood\")\n",
    "            \n",
    "            if start_idx and end_idx:\n",
    "                borough = neighborhoods.iloc[start_idx]['borough']\n",
    "                neighborhood = neighborhoods.iloc[end_idx]['neighborhood']\n",
    "                counts[(borough,neighborhood)] = counts.get((borough,neighborhood), 0) + 1\n",
    "\n",
    "        except: \n",
    "            print(traceback.format_exc())\n",
    "            print(\"Failed at: \", row) ##TODO this won't log anything\n",
    "    return counts.items()"
   ]
  },
  {
   "cell_type": "code",
   "execution_count": 17,
   "metadata": {},
   "outputs": [],
   "source": [
    "def run_spark(taxi_file, sc):\n",
    "\n",
    "    rdd = sc.textFile(taxi_file)\n",
    "#         sorted(data, key=lambda tup: tup[1])\n",
    "    counts = rdd.mapPartitionsWithIndex(processTrips) \\\n",
    "                .map(lambda x: ( x[0][0], [(x[0][1], x[1])] ) ) \\\n",
    "                .mapValues(lambda hood_counts: sorted(hood_counts, key=lambda tup:tup[1])[:3]) \\\n",
    "                .sortByKey() \\\n",
    "                .map(lambda x: x[0] + \",\" + \",\".join([str(i) for sub in x[1] for i in sub])) \\\n",
    "   \n",
    "#     .mapValues(lambda hood_counts: nlargest(3, hood_counts, key=itemgetter(1))) \\\n",
    "\n",
    "    return counts.collect()\n"
   ]
  },
  {
   "cell_type": "code",
   "execution_count": 18,
   "metadata": {},
   "outputs": [
    {
     "name": "stdout",
     "output_type": "stream",
     "text": [
      "['Brooklyn,Clinton Hill,1', 'Brooklyn,Prospect Heights,1', 'Brooklyn,Boerum Hill,1', 'Manhattan,East Village,4', 'Manhattan,Stuyvesant Town,2', 'Manhattan,Chelsea,7', 'Manhattan,Upper West Side,7', 'Manhattan,Midtown,3', 'Manhattan,Gramercy,2', 'Manhattan,Carroll Gardens,1', 'Manhattan,Longwood,1', 'Manhattan,Lower East Side,1', 'Manhattan,Theater District,1', 'Manhattan,Murray Hill,1', \"Manhattan,Hell's Kitchen,3\", 'Manhattan,Highbridge,1', 'Manhattan,Greenwich Village,1', 'Manhattan,Upper East Side,4', 'Manhattan,DUMBO,1', 'Manhattan,West Village,2', 'Manhattan,Bedford-Stuyvesant,1', 'Manhattan,SoHo,1', 'Manhattan,East Harlem,1', 'Manhattan,East Village,1', 'Manhattan,Chelsea,3', 'Manhattan,Midtown,6', 'Manhattan,Upper East Side,4', 'Manhattan,Upper West Side,7', \"Manhattan,Hell's Kitchen,4\", 'Manhattan,Flatiron District,1', 'Manhattan,West Village,4', 'Manhattan,Murray Hill,1', 'Manhattan,Theater District,1', 'Manhattan,SoHo,1', 'Manhattan,Lower East Side,3', 'Manhattan,NoHo,1', 'Manhattan,Cobble Hill,1', 'Manhattan,Financial District,1', 'Manhattan,Williamsburg,2', 'Manhattan,Sunnyside,1', 'Manhattan,East Elmhurst,1', 'Manhattan,East Harlem,1', 'Manhattan,Tribeca,1', 'Manhattan,Greenpoint,1', 'Queens,Astoria,3', \"Queens,Hell's Kitchen,1\"]\n",
      "Execution Time(secs):  99.72224879264832\n"
     ]
    }
   ],
   "source": [
    "start = time.time()\n",
    "print(run_spark('yellow100.csv', sc))\n",
    "print(\"Execution Time(secs): \", time.time() - start)\n",
    "# ['Brooklyn,Clinton Hill,1,Boerum Hill,1,Prospect Heights,1', \n",
    "#'Manhattan,Upper West Side,14,Chelsea,10,Midtown,9', \"Queens,Astoria,3,\n",
    "# Hell's Kitchen,1\"]\n",
    "# Execution Time(secs):  53.41633701324463"
   ]
  },
  {
   "cell_type": "code",
   "execution_count": 18,
   "metadata": {},
   "outputs": [
    {
     "name": "stdout",
     "output_type": "stream",
     "text": [
      "Number of Partitions:  2\n",
      "['Brooklyn,Bushwick,2,Clinton Hill,1,Boerum Hill,1', 'Manhattan,Chelsea,27,Upper West Side,23,Upper East Side,22', \"Queens,Astoria,3,LaGuardia Airport,1,Hell's Kitchen,1\"]\n",
      "Execution Time(secs):  60.8266339302063\n"
     ]
    }
   ],
   "source": [
    "start = time.time()\n",
    "print(run_spark('yellow250.csv', sc))\n",
    "print(\"Execution Time(secs): \", time.time() - start)"
   ]
  },
  {
   "cell_type": "code",
   "execution_count": 16,
   "metadata": {},
   "outputs": [
    {
     "name": "stdout",
     "output_type": "stream",
     "text": [
      "Number of Partitions:  2\n",
      "['Brooklyn,Bushwick,3,Williamsburg,3,Crown Heights,2', 'Manhattan,Upper East Side,51,Chelsea,45,Midtown,43', 'Queens,Astoria,3,Long Island City,2,LaGuardia Airport,1']\n",
      "Execution Time(secs):  62.504777669906616\n"
     ]
    }
   ],
   "source": [
    "# Brooklyn,Bushwick,3,Williamsburg,3,Crown Heights,2', 'Manhattan,Upper East Side,51,Chelsea,45,Midtown,43', \n",
    "# 'Queens,Astoria,3,Long Island City,2,LaGuardia Airport,1'\n",
    "start = time.time()\n",
    "print(run_spark('yellow500.csv', sc))\n",
    "print(\"Execution Time(secs): \", time.time() - start)"
   ]
  },
  {
   "cell_type": "code",
   "execution_count": 7,
   "metadata": {},
   "outputs": [
    {
     "name": "stdout",
     "output_type": "stream",
     "text": [
      "['Brooklyn,Williamsburg,5,Bushwick,4,Williamsburg,3', 'Manhattan,Upper East Side,57,Upper East Side,51,Midtown,49', 'Queens,Astoria,3,Long Island City,2,Upper East Side,2']\n",
      "None\n",
      "Execution Time(secs):  41.35136604309082\n"
     ]
    }
   ],
   "source": [
    "start = time.time()\n",
    "print(run_spark('yellow1000.csv', sc))\n",
    "print(\"Execution Time(secs): \", time.time() - start)"
   ]
  },
  {
   "cell_type": "code",
   "execution_count": 8,
   "metadata": {},
   "outputs": [
    {
     "name": "stdout",
     "output_type": "stream",
     "text": [
      "['Bronx,Longwood,25,Harlem,25,Harlem,25', 'Brooklyn,Williamsburg,1163,Williamsburg,716,Bedford-Stuyvesant,572', 'Manhattan,Upper East Side,29644,Midtown,24159,Upper East Side,23215', 'Queens,Midtown,1290,Upper East Side,820,Midtown,620', 'Staten Island,Dongan Hills,1,West Brighton,1,Midtown,1']\n",
      "None\n",
      "Execution Time(secs):  239.68706727027893\n"
     ]
    }
   ],
   "source": [
    "start = time.time()\n",
    "print(run_spark('yellow.csv', sc))\n",
    "print(\"Execution Time(secs): \", time.time() - start)"
   ]
  },
  {
   "cell_type": "code",
   "execution_count": null,
   "metadata": {},
   "outputs": [],
   "source": []
  },
  {
   "cell_type": "code",
   "execution_count": null,
   "metadata": {},
   "outputs": [],
   "source": []
  },
  {
   "cell_type": "code",
   "execution_count": 19,
   "metadata": {},
   "outputs": [],
   "source": [
    "import pyproj\n",
    "import shapely.geometry as geom\n",
    "\n",
    "proj = pyproj.Proj(init=\"epsg:2263\", preserve_units=True)   \n",
    "point = geom.Point(proj('-73.99164581','40.7387085'))"
   ]
  },
  {
   "cell_type": "code",
   "execution_count": 9,
   "metadata": {},
   "outputs": [
    {
     "name": "stdout",
     "output_type": "stream",
     "text": [
      "Execution Time(secs):  30.418677806854248\n"
     ]
    }
   ],
   "source": [
    "start = time.time()\n",
    "index_e, hood_e = createIndex('neighborhoods.geojson') \n",
    "print(\"Execution Time(secs): \", time.time() - start)"
   ]
  },
  {
   "cell_type": "code",
   "execution_count": 21,
   "metadata": {},
   "outputs": [
    {
     "name": "stdout",
     "output_type": "stream",
     "text": [
      "Execution Time(secs):  0.00494694709777832\n"
     ]
    }
   ],
   "source": [
    "start = time.time()\n",
    "point_zone = findZone(point, index_e, hood_e)\n",
    "print(\"Execution Time(secs): \", time.time() - start)"
   ]
  },
  {
   "cell_type": "code",
   "execution_count": null,
   "metadata": {},
   "outputs": [],
   "source": []
  }
 ],
 "metadata": {
  "kernelspec": {
   "display_name": "Python 3",
   "language": "python",
   "name": "python3"
  },
  "language_info": {
   "codemirror_mode": {
    "name": "ipython",
    "version": 3
   },
   "file_extension": ".py",
   "mimetype": "text/x-python",
   "name": "python",
   "nbconvert_exporter": "python",
   "pygments_lexer": "ipython3",
   "version": "3.7.6"
  }
 },
 "nbformat": 4,
 "nbformat_minor": 4
}
