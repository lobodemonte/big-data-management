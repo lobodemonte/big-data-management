{
 "cells": [
  {
   "cell_type": "code",
   "execution_count": 25,
   "metadata": {},
   "outputs": [],
   "source": [
    "import fiona\n",
    "import geopandas as gpd\n",
    "import pandas as pd\n",
    "import numpy as np\n",
    "import rtree\n",
    "from pyspark import SparkContext\n",
    "from geopandas import GeoDataFrame"
   ]
  },
  {
   "cell_type": "code",
   "execution_count": null,
   "metadata": {},
   "outputs": [],
   "source": [
    "sc = SparkContext()"
   ]
  },
  {
   "cell_type": "code",
   "execution_count": 4,
   "metadata": {},
   "outputs": [],
   "source": [
    "# import gzip\n",
    "# import shutil\n",
    "# with gzip.open('yellow.csv.gz', 'rb') as f_in:\n",
    "#     with open('yellow.csv', 'wb') as f_out:\n",
    "#         shutil.copyfileobj(f_in, f_out)"
   ]
  },
  {
   "cell_type": "code",
   "execution_count": 37,
   "metadata": {},
   "outputs": [
    {
     "data": {
      "text/plain": [
       "['tpep_pickup_datetime,tpep_dropoff_datetime,pickup_latitude,pickup_longitude,dropoff_latitude,dropoff_longitude',\n",
       " '2015-02-01 00:00:00.0,2015-02-01 00:10:10.0,40.775485992431641,-73.95855712890625,40.720134735107422,-73.9749755859375',\n",
       " '2015-02-01 00:00:00.0,2015-02-01 00:03:36.0,40.728248596191406,-73.984840393066406,40.731391906738281,-73.975341796875',\n",
       " '2015-02-01 00:00:00.0,2015-02-01 00:10:32.0,40.731014251708984,-74.001373291015625,40.749237060546875,-74.003067016601562',\n",
       " '2015-02-01 00:00:00.0,2015-02-01 00:19:42.0,40.721115112304688,-73.987129211425781,40.794017791748047,-73.96990966796875']"
      ]
     },
     "execution_count": 37,
     "metadata": {},
     "output_type": "execute_result"
    }
   ],
   "source": [
    "taxi = sc.textFile('yellow.csv.gz')\n",
    "taxi.take(5)"
   ]
  },
  {
   "cell_type": "code",
   "execution_count": 30,
   "metadata": {},
   "outputs": [],
   "source": []
  },
  {
   "cell_type": "code",
   "execution_count": 43,
   "metadata": {},
   "outputs": [],
   "source": [
    "boros = gpd.read_file('boroughs.geojson').to_crs(fiona.crs.from_epsg(2263))\n",
    "neighborhoods = gpd.read_file('neighborhoods.geojson').to_crs(fiona.crs.from_epsg(2263))\n",
    "\n",
    "# boros.plot()\n",
    "# neighborhoods.plot()"
   ]
  },
  {
   "cell_type": "code",
   "execution_count": 48,
   "metadata": {},
   "outputs": [
    {
     "data": {
      "text/plain": [
       "'Manhattan'"
      ]
     },
     "execution_count": 48,
     "metadata": {},
     "output_type": "execute_result"
    }
   ],
   "source": [
    "boros.head()\n",
    "boros.iloc[3].boroname\n",
    "# print(neighborhoods.columns)\n",
    "# print(boros.columns)"
   ]
  },
  {
   "cell_type": "code",
   "execution_count": null,
   "metadata": {},
   "outputs": [],
   "source": []
  },
  {
   "cell_type": "code",
   "execution_count": null,
   "metadata": {},
   "outputs": [],
   "source": [
    "\n",
    "def createIndex(shapefile):\n",
    "    import rtree\n",
    "    import fiona.crs\n",
    "    import geopandas as gpd\n",
    "    zones = gpd.read_file(shapefile).to_crs(fiona.crs.from_epsg(2263))\n",
    "    index = rtree.Rtree()\n",
    "    for idx,geometry in enumerate(zones.geometry):\n",
    "        index.insert(idx, geometry.bounds)\n",
    "    return {\"index\": index, \"zones\": zones}\n",
    "\n",
    "def findZone(p, geo_map):\n",
    "    match = geo_map['index'].intersection((p.x, p.y, p.x, p.y))\n",
    "    for idx in match:\n",
    "        if geo_map['zones'].geometry[idx].contains(p):\n",
    "            return idx\n",
    "    return None\n",
    "\n",
    "def processTrips(pid, records):\n",
    "    import csv\n",
    "    import pyproj\n",
    "    import shapely.geometry as geom\n",
    "\n",
    "    # Skip the header\n",
    "    if pid==0:\n",
    "        next(records)\n",
    "    \n",
    "    reader = csv.reader(records)\n",
    "    counts = {}\n",
    "    \n",
    "    # Create an R-tree index\n",
    "    proj = pyproj.Proj(init=\"epsg:2263\", preserve_units=True)    \n",
    "    boros = createIndex('boroughs.geojson')    \n",
    "    neighborhoods = createIndex('neighborhoods.geojson')    \n",
    "    \n",
    "    for row in reader:\n",
    "        # 'tpep_pickup_datetime,tpep_dropoff_datetime,pickup_latitude,pickup_longitude,dropoff_latitude,dropoff_longitude',\n",
    "        try: \n",
    "            pickup_point = geom.Point(proj(float(row[3]), float(row[2])))\n",
    "            start_boro = findZone(pickup_point, boros)\n",
    "            \n",
    "            if start_boro:\n",
    "                dropoff_point= geom.Point(proj(float(row[5]), float(row[4])))\n",
    "                end_hood = findZone(dropoff_point, neighborhoods)\n",
    "                if end_hood:\n",
    "                    yield ( (start_boro, end_hood), 1 )\n",
    "        except: \n",
    "            print(\"Failed at: \", row)\n",
    "    #                 counts[start_zone] = counts.get(start_zone, 0) + 1\n",
    "#     return counts.items()\n"
   ]
  },
  {
   "cell_type": "code",
   "execution_count": null,
   "metadata": {},
   "outputs": [],
   "source": []
  },
  {
   "cell_type": "code",
   "execution_count": null,
   "metadata": {},
   "outputs": [],
   "source": [
    "rdd = sc.textFile('yellow.csv')\n",
    "counts = rdd.mapPartitionsWithIndex(processTrips) \\\n",
    "            .reduceByKey(lambda x,y: x+y) \n",
    "#             .collect()\n"
   ]
  },
  {
   "cell_type": "code",
   "execution_count": null,
   "metadata": {},
   "outputs": [],
   "source": [
    "print(counts.take(15))"
   ]
  },
  {
   "cell_type": "code",
   "execution_count": null,
   "metadata": {},
   "outputs": [],
   "source": []
  }
 ],
 "metadata": {
  "kernelspec": {
   "display_name": "Python 3",
   "language": "python",
   "name": "python3"
  },
  "language_info": {
   "codemirror_mode": {
    "name": "ipython",
    "version": 3
   },
   "file_extension": ".py",
   "mimetype": "text/x-python",
   "name": "python",
   "nbconvert_exporter": "python",
   "pygments_lexer": "ipython3",
   "version": "3.7.6"
  }
 },
 "nbformat": 4,
 "nbformat_minor": 4
}
