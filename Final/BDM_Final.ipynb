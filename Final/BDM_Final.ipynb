{
 "cells": [
  {
   "cell_type": "code",
   "execution_count": 1,
   "metadata": {},
   "outputs": [],
   "source": [
    "import pandas as pd\n",
    "import numpy as np\n",
    "import rtree\n",
    "import time\n",
    "from pyspark import SparkContext, SparkConf\n",
    "from pyspark.sql import SQLContext\n",
    "from pyspark import sql\n",
    "import traceback\n",
    "\n",
    "from datetime import datetime"
   ]
  },
  {
   "cell_type": "markdown",
   "metadata": {},
   "source": [
    "OBJECTIVES:\n",
    "\n",
    "In this challenge, we would like to gather statistics on the number of parking violations (tickets) per street\n",
    "segment in NYC over the past 5 years. In particular, for each street segment in NYC, we would like to have the\n",
    "following:\n",
    "1. The total number of parking violations for each year from 2015 to 2019.\n",
    "2. The rate that the total number of violations change over the years using Ordinary Least Squares.\n",
    "\n",
    "The street address is provided through the House Number; Street Name; and Violation County field.\n",
    "For the parking violations data set, the Issue Date field should be used to determine which year a violationbelongs to."
   ]
  },
  {
   "cell_type": "code",
   "execution_count": 4,
   "metadata": {},
   "outputs": [],
   "source": [
    "streets = \"nyc_cscl.csv\"\n",
    "violations = \"nyc_parking_violations_2015_sample.csv\""
   ]
  },
  {
   "cell_type": "code",
   "execution_count": 3,
   "metadata": {},
   "outputs": [],
   "source": [
    "sc = SparkContext()"
   ]
  },
  {
   "cell_type": "code",
   "execution_count": 122,
   "metadata": {},
   "outputs": [],
   "source": [
    "sqlContext = sql.SQLContext(sc)"
   ]
  },
  {
   "cell_type": "code",
   "execution_count": 145,
   "metadata": {},
   "outputs": [],
   "source": [
    "def get_county_code(county):\n",
    "    # Possible values: NY, (Q, QUEENS, QNS), ST, BK, BX / BX, K, NY, Q, R\n",
    "    # Boro codes: 1 = MN, 2 = BX, 3 = BK, 4 = QN, 5 = SI\n",
    "    if county == 'NY':\n",
    "        return 1\n",
    "    if county == 'BX':\n",
    "        return 2\n",
    "    if county == 'K' or county == 'BK':\n",
    "        return 3\n",
    "    if county.startswith('Q'):\n",
    "        return 4\n",
    "    if county == 'R' or county == 'ST':\n",
    "        return 5\n",
    "    return -1\n",
    "\n",
    "def process_violations(pid, records):\n",
    "    import csv\n",
    "    years = range(2015,2020)\n",
    "    if pid == 0:\n",
    "        next(records)\n",
    "        \n",
    "    reader = csv.reader(records)\n",
    "    for row in reader:\n",
    "        try:\n",
    "            house_num = row[23].strip()\n",
    "            street_name = row[24].strip().upper()\n",
    "            county_code = get_county_code(row[21].strip())\n",
    "            date_issued = datetime.strptime(row[4].strip(), '%m/%d/%Y')\n",
    "            \n",
    "            if date_issued.year in years:\n",
    "#                 if street_name.startswith('REMSEN'):\n",
    "                yield ((street_name, county_code, house_num, date_issued.year), 1)\n",
    "        except:\n",
    "            print(row)\n",
    "            print(traceback.format_exc())\n",
    "\n",
    "def process_streets(pid,records):\n",
    "    import csv\n",
    "\n",
    "    if pid == 0:\n",
    "        next(records)\n",
    "    \n",
    "    reader = csv.reader(records)\n",
    "    for row in reader: \n",
    "        physical_id = row[0]\n",
    "        street_name = row[28].strip().upper()\n",
    "        boro_code = int(row[13] )\n",
    "        odd_lo = row[2]\n",
    "        odd_hi = row[3]\n",
    "        even_lo = row[4]\n",
    "        even_hi = row[5]\n",
    "#         if street_name.startswith('REMSEN ST'):\n",
    "        yield (street_name, boro_code, odd_lo, odd_hi, even_lo, even_hi , physical_id)\n"
   ]
  },
  {
   "cell_type": "code",
   "execution_count": 146,
   "metadata": {},
   "outputs": [
    {
     "data": {
      "text/plain": [
       "[(('REMSEN ST', 3, 'S', 2015), 1),\n",
       " (('W 172ND ST', 2, '115', 2015), 1),\n",
       " (('W 58TH ST', 1, '350', 2015), 1),\n",
       " (('135TH ST', 4, '82-46', 2015), 2),\n",
       " (('KING ST', 1, '68', 2015), 1),\n",
       " (('BRONXDALE AVE', 2, '1836', 2015), 1),\n",
       " (('JAMAICA AVE', 4, '214-47', 2015), 1),\n",
       " (('ARTHUR AVE', 2, '2311', 2015), 1),\n",
       " (('26TH ST', 4, '22-60', 2015), 1),\n",
       " (('HAMPTON AVE', 3, 'N', 2015), 1)]"
      ]
     },
     "execution_count": 146,
     "metadata": {},
     "output_type": "execute_result"
    }
   ],
   "source": [
    "violations_rdd = sc.textFile(violations).mapPartitionsWithIndex(process_violations) \\\n",
    "            .reduceByKey(lambda x,y: x+y) \\\n",
    "\n",
    "violations_rdd.take(5)"
   ]
  },
  {
   "cell_type": "code",
   "execution_count": 148,
   "metadata": {},
   "outputs": [
    {
     "data": {
      "text/plain": [
       "[('MITSUBISHI WILD WETLAND TRL', 2, '', '', '', '', '164809'),\n",
       " ('28 AVE', 4, '215-001', '215-027', '215-000', '215-026', '6110'),\n",
       " ('SCHERMERHORN ST', 3, '317', '399', '316', '360', '145494'),\n",
       " ('ARLINGTON AVE', 2, '5631', '5699', '5602', '5698', '61140'),\n",
       " ('QUEENS BLVD', 4, '120-011', '120-011', '0', '0', '12438')]"
      ]
     },
     "execution_count": 148,
     "metadata": {},
     "output_type": "execute_result"
    }
   ],
   "source": [
    "streets_rdd = sc.textFile(streets).mapPartitionsWithIndex(process_streets) \\\n",
    "\n",
    "streets_rdd.take(5)"
   ]
  },
  {
   "cell_type": "code",
   "execution_count": 149,
   "metadata": {},
   "outputs": [
    {
     "data": {
      "text/plain": [
       "[]"
      ]
     },
     "execution_count": 149,
     "metadata": {},
     "output_type": "execute_result"
    }
   ],
   "source": [
    "rdd = streets_rdd.join(violations_rdd)\n",
    "rdd.take(5)"
   ]
  },
  {
   "cell_type": "code",
   "execution_count": 156,
   "metadata": {},
   "outputs": [],
   "source": [
    "violations_df = sqlContext.read.format(\"csv\") \\\n",
    "  .option(\"delimiter\",\",\") \\\n",
    "  .option(\"header\", \"true\") \\\n",
    "  .option(\"inferSchema\", \"true\") \\\n",
    "  .load(violations)\n",
    "\n",
    "violations_df = violations_df.select(\"Violation County\", \"House Number\", \"Street Name\", \"Issue Date\")"
   ]
  },
  {
   "cell_type": "code",
   "execution_count": 157,
   "metadata": {},
   "outputs": [
    {
     "data": {
      "text/html": [
       "<div>\n",
       "<style scoped>\n",
       "    .dataframe tbody tr th:only-of-type {\n",
       "        vertical-align: middle;\n",
       "    }\n",
       "\n",
       "    .dataframe tbody tr th {\n",
       "        vertical-align: top;\n",
       "    }\n",
       "\n",
       "    .dataframe thead th {\n",
       "        text-align: right;\n",
       "    }\n",
       "</style>\n",
       "<table border=\"1\" class=\"dataframe\">\n",
       "  <thead>\n",
       "    <tr style=\"text-align: right;\">\n",
       "      <th></th>\n",
       "      <th>Violation County</th>\n",
       "      <th>House Number</th>\n",
       "      <th>Street Name</th>\n",
       "      <th>Issue Date</th>\n",
       "    </tr>\n",
       "  </thead>\n",
       "  <tbody>\n",
       "    <tr>\n",
       "      <th>0</th>\n",
       "      <td>NY</td>\n",
       "      <td>158</td>\n",
       "      <td>8th Ave</td>\n",
       "      <td>02/07/2015</td>\n",
       "    </tr>\n",
       "    <tr>\n",
       "      <th>1</th>\n",
       "      <td>NY</td>\n",
       "      <td>10</td>\n",
       "      <td>E 29th St</td>\n",
       "      <td>04/29/2015</td>\n",
       "    </tr>\n",
       "    <tr>\n",
       "      <th>2</th>\n",
       "      <td>NY</td>\n",
       "      <td>46</td>\n",
       "      <td>William St</td>\n",
       "      <td>10/06/2014</td>\n",
       "    </tr>\n",
       "    <tr>\n",
       "      <th>3</th>\n",
       "      <td>K</td>\n",
       "      <td>S</td>\n",
       "      <td>Remsen St</td>\n",
       "      <td>03/24/2015</td>\n",
       "    </tr>\n",
       "    <tr>\n",
       "      <th>4</th>\n",
       "      <td>Q</td>\n",
       "      <td>W</td>\n",
       "      <td>161st St</td>\n",
       "      <td>08/16/2014</td>\n",
       "    </tr>\n",
       "  </tbody>\n",
       "</table>\n",
       "</div>"
      ],
      "text/plain": [
       "  Violation County House Number Street Name  Issue Date\n",
       "0               NY          158     8th Ave  02/07/2015\n",
       "1               NY           10   E 29th St  04/29/2015\n",
       "2               NY           46  William St  10/06/2014\n",
       "3                K            S   Remsen St  03/24/2015\n",
       "4                Q            W    161st St  08/16/2014"
      ]
     },
     "execution_count": 157,
     "metadata": {},
     "output_type": "execute_result"
    }
   ],
   "source": []
  },
  {
   "cell_type": "code",
   "execution_count": 159,
   "metadata": {},
   "outputs": [
    {
     "ename": "ValueError",
     "evalue": "Cannot convert column into bool: please use '&' for 'and', '|' for 'or', '~' for 'not' when building DataFrame boolean expressions.",
     "output_type": "error",
     "traceback": [
      "\u001b[1;31m---------------------------------------------------------------------------\u001b[0m",
      "\u001b[1;31mValueError\u001b[0m                                Traceback (most recent call last)",
      "\u001b[1;32m<ipython-input-159-8138e555e52f>\u001b[0m in \u001b[0;36m<module>\u001b[1;34m\u001b[0m\n\u001b[1;32m----> 1\u001b[1;33m \u001b[0mviolations_df\u001b[0m\u001b[1;33m.\u001b[0m\u001b[0mwithColumn\u001b[0m\u001b[1;33m(\u001b[0m\u001b[1;34m'BOROCODE'\u001b[0m\u001b[1;33m,\u001b[0m \u001b[0mget_county_code\u001b[0m\u001b[1;33m(\u001b[0m\u001b[0mviolations_df\u001b[0m\u001b[1;33m[\u001b[0m\u001b[1;34m'Violation County'\u001b[0m\u001b[1;33m]\u001b[0m\u001b[1;33m)\u001b[0m\u001b[1;33m)\u001b[0m\u001b[1;33m\u001b[0m\u001b[1;33m\u001b[0m\u001b[0m\n\u001b[0m\u001b[0;32m      2\u001b[0m \u001b[1;33m\u001b[0m\u001b[0m\n\u001b[0;32m      3\u001b[0m \u001b[0mviolations_simp\u001b[0m \u001b[1;33m=\u001b[0m \u001b[0mpd\u001b[0m\u001b[1;33m.\u001b[0m\u001b[0mDataFrame\u001b[0m\u001b[1;33m(\u001b[0m\u001b[0mviolations_df\u001b[0m\u001b[1;33m.\u001b[0m\u001b[0mhead\u001b[0m\u001b[1;33m(\u001b[0m\u001b[1;36m5\u001b[0m\u001b[1;33m)\u001b[0m\u001b[1;33m,\u001b[0m \u001b[0mcolumns\u001b[0m\u001b[1;33m=\u001b[0m\u001b[0mviolations_df\u001b[0m\u001b[1;33m.\u001b[0m\u001b[0mcolumns\u001b[0m\u001b[1;33m)\u001b[0m\u001b[1;33m\u001b[0m\u001b[1;33m\u001b[0m\u001b[0m\n\u001b[0;32m      4\u001b[0m \u001b[0mviolations_simp\u001b[0m\u001b[1;33m\u001b[0m\u001b[1;33m\u001b[0m\u001b[0m\n",
      "\u001b[1;32m<ipython-input-145-670f22cae6ce>\u001b[0m in \u001b[0;36mget_county_code\u001b[1;34m(county)\u001b[0m\n\u001b[0;32m      2\u001b[0m     \u001b[1;31m# Possible values: NY, (Q, QUEENS, QNS), ST, BK, BX / BX, K, NY, Q, R\u001b[0m\u001b[1;33m\u001b[0m\u001b[1;33m\u001b[0m\u001b[1;33m\u001b[0m\u001b[0m\n\u001b[0;32m      3\u001b[0m     \u001b[1;31m# Boro codes: 1 = MN, 2 = BX, 3 = BK, 4 = QN, 5 = SI\u001b[0m\u001b[1;33m\u001b[0m\u001b[1;33m\u001b[0m\u001b[1;33m\u001b[0m\u001b[0m\n\u001b[1;32m----> 4\u001b[1;33m     \u001b[1;32mif\u001b[0m \u001b[0mcounty\u001b[0m \u001b[1;33m==\u001b[0m \u001b[1;34m'NY'\u001b[0m\u001b[1;33m:\u001b[0m\u001b[1;33m\u001b[0m\u001b[1;33m\u001b[0m\u001b[0m\n\u001b[0m\u001b[0;32m      5\u001b[0m         \u001b[1;32mreturn\u001b[0m \u001b[1;36m1\u001b[0m\u001b[1;33m\u001b[0m\u001b[1;33m\u001b[0m\u001b[0m\n\u001b[0;32m      6\u001b[0m     \u001b[1;32mif\u001b[0m \u001b[0mcounty\u001b[0m \u001b[1;33m==\u001b[0m \u001b[1;34m'BX'\u001b[0m\u001b[1;33m:\u001b[0m\u001b[1;33m\u001b[0m\u001b[1;33m\u001b[0m\u001b[0m\n",
      "\u001b[1;32m~\\Anaconda2\\envs\\AppliedDataScience\\lib\\site-packages\\pyspark\\sql\\column.py\u001b[0m in \u001b[0;36m__nonzero__\u001b[1;34m(self)\u001b[0m\n\u001b[0;32m    688\u001b[0m \u001b[1;33m\u001b[0m\u001b[0m\n\u001b[0;32m    689\u001b[0m     \u001b[1;32mdef\u001b[0m \u001b[0m__nonzero__\u001b[0m\u001b[1;33m(\u001b[0m\u001b[0mself\u001b[0m\u001b[1;33m)\u001b[0m\u001b[1;33m:\u001b[0m\u001b[1;33m\u001b[0m\u001b[1;33m\u001b[0m\u001b[0m\n\u001b[1;32m--> 690\u001b[1;33m         raise ValueError(\"Cannot convert column into bool: please use '&' for 'and', '|' for 'or', \"\n\u001b[0m\u001b[0;32m    691\u001b[0m                          \"'~' for 'not' when building DataFrame boolean expressions.\")\n\u001b[0;32m    692\u001b[0m     \u001b[0m__bool__\u001b[0m \u001b[1;33m=\u001b[0m \u001b[0m__nonzero__\u001b[0m\u001b[1;33m\u001b[0m\u001b[1;33m\u001b[0m\u001b[0m\n",
      "\u001b[1;31mValueError\u001b[0m: Cannot convert column into bool: please use '&' for 'and', '|' for 'or', '~' for 'not' when building DataFrame boolean expressions."
     ]
    }
   ],
   "source": [
    "violations_df.withColumn('BOROCODE', get_county_code(violations_df['Violation County']))\n",
    "\n",
    "violations_simp = pd.DataFrame(violations_df.head(5), columns=violations_df.columns)\n",
    "violations_simp"
   ]
  },
  {
   "cell_type": "code",
   "execution_count": 140,
   "metadata": {},
   "outputs": [],
   "source": [
    "streets_df = sqlContext.read.format(\"csv\") \\\n",
    "  .option(\"delimiter\",\",\") \\\n",
    "  .option(\"header\", \"true\") \\\n",
    "  .option(\"inferSchema\", \"true\") \\\n",
    "  .load(streets)\n",
    "\n",
    "streets_df = streets_df.select(\"PHYSICALID\",\"BOROCODE\", \"FULL_STREE\", \"L_LOW_HN\", \"L_HIGH_HN\", \"R_LOW_HN\", \"R_HIGH_HN\")\n"
   ]
  },
  {
   "cell_type": "code",
   "execution_count": 144,
   "metadata": {},
   "outputs": [
    {
     "data": {
      "text/html": [
       "<div>\n",
       "<style scoped>\n",
       "    .dataframe tbody tr th:only-of-type {\n",
       "        vertical-align: middle;\n",
       "    }\n",
       "\n",
       "    .dataframe tbody tr th {\n",
       "        vertical-align: top;\n",
       "    }\n",
       "\n",
       "    .dataframe thead th {\n",
       "        text-align: right;\n",
       "    }\n",
       "</style>\n",
       "<table border=\"1\" class=\"dataframe\">\n",
       "  <thead>\n",
       "    <tr style=\"text-align: right;\">\n",
       "      <th></th>\n",
       "      <th>PHYSICALID</th>\n",
       "      <th>BOROCODE</th>\n",
       "      <th>FULL_STREE</th>\n",
       "      <th>L_LOW_HN</th>\n",
       "      <th>L_HIGH_HN</th>\n",
       "      <th>R_LOW_HN</th>\n",
       "      <th>R_HIGH_HN</th>\n",
       "    </tr>\n",
       "  </thead>\n",
       "  <tbody>\n",
       "    <tr>\n",
       "      <th>0</th>\n",
       "      <td>164809</td>\n",
       "      <td>2</td>\n",
       "      <td>MITSUBISHI WILD WETLAND TRL</td>\n",
       "      <td>None</td>\n",
       "      <td>None</td>\n",
       "      <td>None</td>\n",
       "      <td>None</td>\n",
       "    </tr>\n",
       "    <tr>\n",
       "      <th>1</th>\n",
       "      <td>6110</td>\n",
       "      <td>4</td>\n",
       "      <td>28 AVE</td>\n",
       "      <td>215-001</td>\n",
       "      <td>215-027</td>\n",
       "      <td>215-000</td>\n",
       "      <td>215-026</td>\n",
       "    </tr>\n",
       "    <tr>\n",
       "      <th>2</th>\n",
       "      <td>145494</td>\n",
       "      <td>3</td>\n",
       "      <td>SCHERMERHORN ST</td>\n",
       "      <td>317</td>\n",
       "      <td>399</td>\n",
       "      <td>316</td>\n",
       "      <td>360</td>\n",
       "    </tr>\n",
       "  </tbody>\n",
       "</table>\n",
       "</div>"
      ],
      "text/plain": [
       "   PHYSICALID  BOROCODE                   FULL_STREE L_LOW_HN L_HIGH_HN  \\\n",
       "0      164809         2  MITSUBISHI WILD WETLAND TRL     None      None   \n",
       "1        6110         4                       28 AVE  215-001   215-027   \n",
       "2      145494         3              SCHERMERHORN ST      317       399   \n",
       "\n",
       "  R_LOW_HN R_HIGH_HN  \n",
       "0     None      None  \n",
       "1  215-000   215-026  \n",
       "2      316       360  "
      ]
     },
     "execution_count": 144,
     "metadata": {},
     "output_type": "execute_result"
    }
   ],
   "source": [
    "streets_simp = pd.DataFrame(streets_df.head(3), columns=streets_df.columns)\n",
    "streets_simp"
   ]
  },
  {
   "cell_type": "code",
   "execution_count": null,
   "metadata": {},
   "outputs": [],
   "source": [
    "df.withColumn('result', example_udf(df.address1, df.address2))\n"
   ]
  },
  {
   "cell_type": "code",
   "execution_count": null,
   "metadata": {},
   "outputs": [],
   "source": []
  }
 ],
 "metadata": {
  "kernelspec": {
   "display_name": "Python 3",
   "language": "python",
   "name": "python3"
  },
  "language_info": {
   "codemirror_mode": {
    "name": "ipython",
    "version": 3
   },
   "file_extension": ".py",
   "mimetype": "text/x-python",
   "name": "python",
   "nbconvert_exporter": "python",
   "pygments_lexer": "ipython3",
   "version": "3.7.6"
  }
 },
 "nbformat": 4,
 "nbformat_minor": 4
}
